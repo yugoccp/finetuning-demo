{
 "cells": [
  {
   "cell_type": "markdown",
   "metadata": {},
   "source": [
    "# Prepare Dataset for Fine-tuning\n",
    "This notebook organizes the dateset to be used by the finetuning process for a model using LoRA adjustments."
   ]
  },
  {
   "cell_type": "markdown",
   "metadata": {},
   "source": [
    "## Transform each Q&A entry into ChatML message."
   ]
  },
  {
   "cell_type": "code",
   "execution_count": null,
   "metadata": {},
   "outputs": [],
   "source": [
    "import json\n",
    "\n",
    "with open(\"../data/yugioh_rulebook_qa.json\", \"r\", encoding=\"utf-8\") as f:\n",
    "    qa_data = json.load(f)\n",
    "\n",
    "def qa_to_chatml(qa_entry):\n",
    "    question = qa_entry[\"question\"]\n",
    "    answer = qa_entry[\"answer\"]\n",
    "    return {\n",
    "        \"messages\": [\n",
    "            {\"role\": \"system\", \"content\": \"You are an AI assistant trained to answer questions strictly based on the Yu-Gi-Oh! official rulebook.\"},\n",
    "            {\"role\": \"user\", \"content\": question},\n",
    "            {\"role\": \"assistant\", \"content\": answer}\n",
    "        ]\n",
    "    }\n",
    "\n",
    "dataset = [qa_to_chatml(entry) for entry in qa_data]\n",
    "jsonl_lines = [json.dumps(item) for item in dataset]\n",
    "jsonl_string = \"\\n\".join(jsonl_lines)"
   ]
  },
  {
   "cell_type": "markdown",
   "metadata": {},
   "source": [
    "## Save output to JSONL file"
   ]
  },
  {
   "cell_type": "code",
   "execution_count": null,
   "metadata": {},
   "outputs": [],
   "source": [
    "chatml_path = \"../data/yugioh_rulebook_chatml.jsonl\"\n",
    "with open(chatml_path, \"w\", encoding=\"utf-8\") as f:\n",
    "    f.write(jsonl_string)"
   ]
  }
 ],
 "metadata": {
  "kernelspec": {
   "display_name": ".venv",
   "language": "python",
   "name": "python3"
  },
  "language_info": {
   "codemirror_mode": {
    "name": "ipython",
    "version": 3
   },
   "file_extension": ".py",
   "mimetype": "text/x-python",
   "name": "python",
   "nbconvert_exporter": "python",
   "pygments_lexer": "ipython3",
   "version": "3.12.8"
  }
 },
 "nbformat": 4,
 "nbformat_minor": 2
}
